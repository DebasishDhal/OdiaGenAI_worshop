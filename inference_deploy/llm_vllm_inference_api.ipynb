{
  "nbformat": 4,
  "nbformat_minor": 0,
  "metadata": {
    "colab": {
      "provenance": [],
      "gpuType": "T4"
    },
    "kernelspec": {
      "name": "python3",
      "display_name": "Python 3"
    },
    "language_info": {
      "name": "python"
    },
    "accelerator": "GPU"
  },
  "cells": [
    {
      "cell_type": "code",
      "execution_count": null,
      "metadata": {
        "id": "GP0qoXGSjG4G"
      },
      "outputs": [],
      "source": [
        "%%capture\n",
        "!pip -q install --upgrade fschat accelerate autoawq vllm\n",
        "!pip install torch==2.1.0+cu121 torchvision==0.16.0+cu121 torchaudio==2.1.0 torchtext==0.16.0+cpu torchdata==0.7.0 --index-url https://download.pytorch.org/whl/cu121"
      ]
    },
    {
      "cell_type": "code",
      "source": [],
      "metadata": {
        "id": "mqHdu2bXQtJA"
      },
      "execution_count": null,
      "outputs": []
    },
    {
      "cell_type": "code",
      "source": [],
      "metadata": {
        "id": "0NI-wBqwVM-G"
      },
      "execution_count": null,
      "outputs": []
    },
    {
      "cell_type": "code",
      "source": [],
      "metadata": {
        "id": "qw63uJKeVNMg"
      },
      "execution_count": null,
      "outputs": []
    },
    {
      "cell_type": "code",
      "source": [
        "# cloudflare host tunnel"
      ],
      "metadata": {
        "id": "qIIqlYk1VE_F"
      },
      "execution_count": null,
      "outputs": []
    },
    {
      "cell_type": "code",
      "source": [
        "# !wget https://github.com/cloudflare/cloudflared/releases/latest/download/cloudflared-linux-amd64 -O cloudflared\n",
        "# !chmod a+x cloudflared"
      ],
      "metadata": {
        "id": "rd4yYamayYcx"
      },
      "execution_count": 1,
      "outputs": []
    },
    {
      "cell_type": "code",
      "source": [
        "# import nest_asyncio\n",
        "# nest_asyncio.apply()\n",
        "\n",
        "# import subprocess\n",
        "# print(\"start cloudflared runnel\")\n",
        "# f = open(\"stdout\", \"w\")\n",
        "# p = subprocess.Popen(['./cloudflared', '--url', 'http://localhost:6969'], bufsize=0, stdout=f, stderr=subprocess.STDOUT)\n",
        "\n",
        "# import time\n",
        "\n",
        "# time.sleep(3)\n",
        "\n",
        "# !grep -F trycloudflare stdout"
      ],
      "metadata": {
        "id": "IRyzUvwCyc2y"
      },
      "execution_count": 2,
      "outputs": []
    },
    {
      "cell_type": "code",
      "source": [],
      "metadata": {
        "id": "F6g44jMmyv8S"
      },
      "execution_count": 2,
      "outputs": []
    },
    {
      "cell_type": "code",
      "source": [],
      "metadata": {
        "id": "BIYo4_EfVOS9"
      },
      "execution_count": null,
      "outputs": []
    },
    {
      "cell_type": "code",
      "source": [
        "# ngrok host tunnel"
      ],
      "metadata": {
        "id": "bF0jYnGzVOju"
      },
      "execution_count": null,
      "outputs": []
    },
    {
      "cell_type": "code",
      "source": [
        "!wget https://bin.equinox.io/c/4VmDzA7iaHb/ngrok-stable-linux-amd64.zip\n",
        "!unzip -o ngrok-stable-linux-amd64.zip"
      ],
      "metadata": {
        "colab": {
          "base_uri": "https://localhost:8080/"
        },
        "id": "6zBTAZwCjjSk",
        "outputId": "641ee35b-b5ad-46ea-b03c-ed560036d0d8"
      },
      "execution_count": null,
      "outputs": [
        {
          "output_type": "stream",
          "name": "stdout",
          "text": [
            "--2023-10-13 10:41:59--  https://bin.equinox.io/c/4VmDzA7iaHb/ngrok-stable-linux-amd64.zip\n",
            "Resolving bin.equinox.io (bin.equinox.io)... 54.161.241.46, 18.205.222.128, 52.202.168.65, ...\n",
            "Connecting to bin.equinox.io (bin.equinox.io)|54.161.241.46|:443... connected.\n",
            "HTTP request sent, awaiting response... 200 OK\n",
            "Length: 13921656 (13M) [application/octet-stream]\n",
            "Saving to: ‘ngrok-stable-linux-amd64.zip’\n",
            "\n",
            "ngrok-stable-linux- 100%[===================>]  13.28M  19.2MB/s    in 0.7s    \n",
            "\n",
            "2023-10-13 10:42:00 (19.2 MB/s) - ‘ngrok-stable-linux-amd64.zip’ saved [13921656/13921656]\n",
            "\n",
            "Archive:  ngrok-stable-linux-amd64.zip\n",
            "  inflating: ngrok                   \n"
          ]
        }
      ]
    },
    {
      "cell_type": "code",
      "source": [
        "!./ngrok authtoken <ngrok_token>"
      ],
      "metadata": {
        "colab": {
          "base_uri": "https://localhost:8080/"
        },
        "id": "JDyZBljvjj26",
        "outputId": "1d77cfeb-0338-44fe-92a7-c7f6bcfef084"
      },
      "execution_count": null,
      "outputs": [
        {
          "output_type": "stream",
          "name": "stdout",
          "text": [
            "Authtoken saved to configuration file: /root/.ngrok2/ngrok.yml\n"
          ]
        }
      ]
    },
    {
      "cell_type": "code",
      "source": [
        "# !python -m vllm.entrypoints.api_server --model OdiaGenAI/odia_llama2_7B_base --port 6969 --host 0.0.0.0"
      ],
      "metadata": {
        "id": "HH_3yPZhntwU"
      },
      "execution_count": null,
      "outputs": []
    },
    {
      "cell_type": "code",
      "source": [
        "# !python -m vllm.entrypoints.api_server \\\n",
        "#     --model OdiaGenAI/mistral_hindi_7b_base_v1 \\\n",
        "#     --port 6969 \\\n",
        "#     --host 0.0.0.0"
      ],
      "metadata": {
        "id": "LUBvk9_uQTOv"
      },
      "execution_count": null,
      "outputs": []
    },
    {
      "cell_type": "code",
      "source": [],
      "metadata": {
        "id": "oKN63nHvyMLJ"
      },
      "execution_count": 2,
      "outputs": []
    },
    {
      "cell_type": "code",
      "source": [
        "!python -m vllm.entrypoints.api_server \\\n",
        "    --model OdiaGenAI/odia_llama2_7B_base \\\n",
        "    --port 6969 \\\n",
        "    --host 0.0.0.0 > server.log 2>&1 &"
      ],
      "metadata": {
        "id": "qqqrIzDbjoHW"
      },
      "execution_count": null,
      "outputs": []
    },
    {
      "cell_type": "code",
      "source": [
        "# !ps"
      ],
      "metadata": {
        "colab": {
          "base_uri": "https://localhost:8080/"
        },
        "id": "S8JEeeuGwo7d",
        "outputId": "ac8f9060-ccc5-41f7-f1bd-6f4192551ede"
      },
      "execution_count": null,
      "outputs": [
        {
          "output_type": "stream",
          "name": "stdout",
          "text": [
            "    PID TTY          TIME CMD\n",
            "      1 ?        00:00:00 docker-init\n",
            "      6 ?        00:00:03 node\n",
            "     16 ?        00:00:00 oom_monitor.sh\n",
            "     18 ?        00:00:00 run.sh\n",
            "     21 ?        00:00:00 kernel_manager_\n",
            "     22 ?        00:00:00 tail\n",
            "     52 ?        00:00:05 python3 <defunct>\n",
            "     53 ?        00:00:00 colab-fileshim.\n",
            "     98 ?        00:00:04 jupyter-noteboo\n",
            "     99 ?        00:00:01 dap_multiplexer\n",
            "    478 ?        00:00:07 python3\n",
            "    541 ?        00:00:03 python3\n",
            "    831 ?        00:00:00 language_servic\n",
            "    836 ?        00:00:05 node\n",
            "    915 ?        00:02:11 python3\n",
            "   7355 ?        00:00:00 sleep\n",
            "   7356 ?        00:00:00 ps\n"
          ]
        }
      ]
    },
    {
      "cell_type": "code",
      "source": [
        "from IPython import get_ipython\n",
        "get_ipython().system_raw('./ngrok http 6969 &')"
      ],
      "metadata": {
        "id": "1lLVoMHrjqZS"
      },
      "execution_count": null,
      "outputs": []
    },
    {
      "cell_type": "code",
      "source": [
        "!curl -s http://localhost:4040/api/tunnels"
      ],
      "metadata": {
        "colab": {
          "base_uri": "https://localhost:8080/"
        },
        "id": "sCNs4ehhJ2wR",
        "outputId": "1f7b89b4-9c85-4bba-bdd9-a6dfe5283fd2"
      },
      "execution_count": null,
      "outputs": [
        {
          "output_type": "stream",
          "name": "stdout",
          "text": [
            "{\"tunnels\":[{\"name\":\"command_line\",\"uri\":\"/api/tunnels/command_line\",\"public_url\":\"https://48b4-35-197-125-238.ngrok-free.app\",\"proto\":\"https\",\"config\":{\"addr\":\"http://localhost:6969\",\"inspect\":true},\"metrics\":{\"conns\":{\"count\":0,\"gauge\":0,\"rate1\":0,\"rate5\":0,\"rate15\":0,\"p50\":0,\"p90\":0,\"p95\":0,\"p99\":0},\"http\":{\"count\":0,\"rate1\":0,\"rate5\":0,\"rate15\":0,\"p50\":0,\"p90\":0,\"p95\":0,\"p99\":0}}},{\"name\":\"command_line (http)\",\"uri\":\"/api/tunnels/command_line%20%28http%29\",\"public_url\":\"http://48b4-35-197-125-238.ngrok-free.app\",\"proto\":\"http\",\"config\":{\"addr\":\"http://localhost:6969\",\"inspect\":true},\"metrics\":{\"conns\":{\"count\":0,\"gauge\":0,\"rate1\":0,\"rate5\":0,\"rate15\":0,\"p50\":0,\"p90\":0,\"p95\":0,\"p99\":0},\"http\":{\"count\":0,\"rate1\":0,\"rate5\":0,\"rate15\":0,\"p50\":0,\"p90\":0,\"p95\":0,\"p99\":0}}}],\"uri\":\"/api/tunnels\"}\n"
          ]
        }
      ]
    },
    {
      "cell_type": "code",
      "source": [
        "!curl -s http://localhost:4040/api/tunnels | python3 -c \"import sys, json; print(json.load(sys.stdin)['tunnels'][0]['public_url'])\""
      ],
      "metadata": {
        "colab": {
          "base_uri": "https://localhost:8080/"
        },
        "id": "UTVj0vB6jrpu",
        "outputId": "3aa2d31f-acfc-4b4e-f956-dd0d267ba5ee"
      },
      "execution_count": null,
      "outputs": [
        {
          "output_type": "stream",
          "name": "stdout",
          "text": [
            "https://48b4-35-197-125-238.ngrok-free.app\n"
          ]
        }
      ]
    },
    {
      "cell_type": "code",
      "source": [],
      "metadata": {
        "id": "IstHv06gPicF"
      },
      "execution_count": 2,
      "outputs": []
    },
    {
      "cell_type": "code",
      "source": [],
      "metadata": {
        "colab": {
          "base_uri": "https://localhost:8080/"
        },
        "id": "rdLgAarMt4mN",
        "outputId": "b81b4c4c-2e14-4e5f-d2cf-cafcbe4320ec"
      },
      "execution_count": null,
      "outputs": [
        {
          "output_type": "stream",
          "name": "stdout",
          "text": [
            "Python 3.10.12\n"
          ]
        }
      ]
    },
    {
      "cell_type": "code",
      "source": [
        "import requests\n",
        "import json\n",
        "\n",
        "url = \"https://48b4-35-197-125-238.ngrok-free.app/generate\"\n",
        "\n",
        "payload = json.dumps({\n",
        "  \"prompt\": \"<s>[INST] ତୁମେ କିଏ? [/INST] \",\n",
        "  \"max_tokens\": 25,\n",
        "  \"temperature\": 0.1\n",
        "})\n",
        "headers = {\n",
        "  'Content-Type': 'application/json'\n",
        "}\n",
        "\n",
        "response = requests.request(\"POST\", url, headers=headers, data=payload)\n",
        "\n",
        "print(response.json()['text'][0].split('[/INST] ')[-1])"
      ],
      "metadata": {
        "id": "UTvzBsz2Piul"
      },
      "execution_count": 3,
      "outputs": []
    },
    {
      "cell_type": "code",
      "source": [],
      "metadata": {
        "id": "9eNMFIitV-vB"
      },
      "execution_count": null,
      "outputs": []
    },
    {
      "cell_type": "code",
      "source": [
        "def gen_response(text):\n",
        "  url = \"https://bbb5-34-136-146-180.ngrok-free.app/generate\"\n",
        "\n",
        "  payload = json.dumps({\n",
        "    \"prompt\": \"<s>[INST] ତୁମେ କିଏ? [/INST] \",\n",
        "    \"max_tokens\": 1024,\n",
        "    \"temperature\": 0.1\n",
        "  })\n",
        "  headers = {\n",
        "    'Content-Type': 'application/json'\n",
        "  }\n",
        "\n",
        "  response = requests.request(\"POST\", url, headers=headers, data=payload)\n",
        "\n",
        "  return response.json()['text'][0].split('[/INST] ')[-1]"
      ],
      "metadata": {
        "id": "vzubkX6RjfdR"
      },
      "execution_count": null,
      "outputs": []
    }
  ]
}